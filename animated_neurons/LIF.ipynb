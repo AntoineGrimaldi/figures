{
 "cells": [
  {
   "cell_type": "markdown",
   "id": "7847c67c-83e4-4f92-8ca2-0aebc43704e8",
   "metadata": {},
   "source": [
    "# Animated figure of Spiking Neurons (LIF)"
   ]
  },
  {
   "cell_type": "code",
   "execution_count": 1,
   "id": "99977b1a-d4f7-4cb9-a44d-83dc2c5bf812",
   "metadata": {},
   "outputs": [],
   "source": [
    "%mkdir -p LIF_figures"
   ]
  },
  {
   "cell_type": "code",
   "execution_count": 2,
   "id": "d0c2bf7a-13ac-4e46-a689-ab223ec43ea0",
   "metadata": {},
   "outputs": [],
   "source": [
    "from tools import make_input, vonmises, draw_LIF_figures, Slide, Deck\n",
    "import numpy as np"
   ]
  },
  {
   "cell_type": "code",
   "execution_count": 3,
   "id": "1609d41a-665b-4da2-b360-6ca9a8465316",
   "metadata": {},
   "outputs": [],
   "source": [
    "nb_syn, noise_density, simtime, stimtime = 10, 2e-3, 1e4, 2.5e2\n",
    "repetitions = 0\n",
    "noise, stim, aer = make_input(nb_syn, noise_density, repetitions, simtime, stimtime, function=vonmises)"
   ]
  },
  {
   "cell_type": "code",
   "execution_count": 4,
   "id": "7728ab38-bce1-4b20-8d4d-8703dd475f39",
   "metadata": {},
   "outputs": [],
   "source": [
    "postsyn_window_size = 300\n",
    "seed_nb = 4\n",
    "np.random.seed(seed_nb)\n",
    "delays = postsyn_window_size*np.ones(nb_syn)\n",
    "synaptic_weights = np.random.rand(nb_syn)*.2+.1"
   ]
  },
  {
   "cell_type": "code",
   "execution_count": 5,
   "id": "9d46fa9f-7f33-4779-8798-af3ea490ec8e",
   "metadata": {},
   "outputs": [
    {
     "data": {
      "application/vnd.jupyter.widget-view+json": {
       "model_id": "6261cf7c8d60499f8155f4a6ebc8800a",
       "version_major": 2,
       "version_minor": 0
      },
      "text/plain": [
       "  0%|          | 0/300 [00:00<?, ?it/s]"
      ]
     },
     "metadata": {},
     "output_type": "display_data"
    }
   ],
   "source": [
    "draw_LIF_figures(noise, stim, aer, simtime, nb_syn, delays, synaptic_weights, nb_frames = 300)"
   ]
  },
  {
   "cell_type": "markdown",
   "id": "b7c1e2bb-6556-4cca-aad8-1e29d787b8b2",
   "metadata": {},
   "source": [
    "## Compile images into movie"
   ]
  },
  {
   "cell_type": "code",
   "execution_count": 6,
   "id": "c3afd2f3-f1ee-42f3-9efc-5fa62cffc06a",
   "metadata": {},
   "outputs": [],
   "source": [
    "reduced = False"
   ]
  },
  {
   "cell_type": "code",
   "execution_count": 7,
   "id": "701dd08e-6e90-43ae-a878-8dd33d148e8e",
   "metadata": {},
   "outputs": [
    {
     "name": "stdout",
     "output_type": "stream",
     "text": [
      "/!\\ no subtitle ['LIF_figures/LIF_40.png', 'LIF_figures/LIF_41.png', 'LIF_figures/LIF_42.png', 'LIF_figures/LIF_43.png', 'LIF_figures/LIF_44.png', 'LIF_figures/LIF_45.png', 'LIF_figures/LIF_46.png', 'LIF_figures/LIF_47.png', 'LIF_figures/LIF_48.png', 'LIF_figures/LIF_49.png', 'LIF_figures/LIF_50.png', 'LIF_figures/LIF_51.png', 'LIF_figures/LIF_52.png', 'LIF_figures/LIF_53.png', 'LIF_figures/LIF_54.png', 'LIF_figures/LIF_55.png', 'LIF_figures/LIF_56.png', 'LIF_figures/LIF_57.png', 'LIF_figures/LIF_58.png', 'LIF_figures/LIF_59.png', 'LIF_figures/LIF_60.png', 'LIF_figures/LIF_61.png', 'LIF_figures/LIF_62.png', 'LIF_figures/LIF_63.png', 'LIF_figures/LIF_64.png', 'LIF_figures/LIF_65.png', 'LIF_figures/LIF_66.png', 'LIF_figures/LIF_67.png', 'LIF_figures/LIF_68.png', 'LIF_figures/LIF_69.png', 'LIF_figures/LIF_70.png', 'LIF_figures/LIF_71.png', 'LIF_figures/LIF_72.png', 'LIF_figures/LIF_73.png', 'LIF_figures/LIF_74.png', 'LIF_figures/LIF_75.png', 'LIF_figures/LIF_76.png', 'LIF_figures/LIF_77.png', 'LIF_figures/LIF_78.png', 'LIF_figures/LIF_79.png', 'LIF_figures/LIF_80.png', 'LIF_figures/LIF_81.png', 'LIF_figures/LIF_82.png', 'LIF_figures/LIF_83.png', 'LIF_figures/LIF_84.png', 'LIF_figures/LIF_85.png', 'LIF_figures/LIF_86.png', 'LIF_figures/LIF_87.png', 'LIF_figures/LIF_88.png', 'LIF_figures/LIF_89.png', 'LIF_figures/LIF_90.png', 'LIF_figures/LIF_91.png', 'LIF_figures/LIF_92.png', 'LIF_figures/LIF_93.png', 'LIF_figures/LIF_94.png', 'LIF_figures/LIF_95.png', 'LIF_figures/LIF_96.png', 'LIF_figures/LIF_97.png', 'LIF_figures/LIF_98.png', 'LIF_figures/LIF_99.png', 'LIF_figures/LIF_100.png', 'LIF_figures/LIF_101.png', 'LIF_figures/LIF_102.png', 'LIF_figures/LIF_103.png', 'LIF_figures/LIF_104.png', 'LIF_figures/LIF_105.png', 'LIF_figures/LIF_106.png', 'LIF_figures/LIF_107.png', 'LIF_figures/LIF_108.png', 'LIF_figures/LIF_109.png', 'LIF_figures/LIF_110.png', 'LIF_figures/LIF_111.png', 'LIF_figures/LIF_112.png', 'LIF_figures/LIF_113.png', 'LIF_figures/LIF_114.png', 'LIF_figures/LIF_115.png', 'LIF_figures/LIF_116.png', 'LIF_figures/LIF_117.png', 'LIF_figures/LIF_118.png', 'LIF_figures/LIF_119.png', 'LIF_figures/LIF_120.png', 'LIF_figures/LIF_121.png', 'LIF_figures/LIF_122.png', 'LIF_figures/LIF_123.png', 'LIF_figures/LIF_124.png', 'LIF_figures/LIF_125.png', 'LIF_figures/LIF_126.png', 'LIF_figures/LIF_127.png', 'LIF_figures/LIF_128.png', 'LIF_figures/LIF_129.png', 'LIF_figures/LIF_130.png', 'LIF_figures/LIF_131.png', 'LIF_figures/LIF_132.png', 'LIF_figures/LIF_133.png', 'LIF_figures/LIF_134.png', 'LIF_figures/LIF_135.png', 'LIF_figures/LIF_136.png', 'LIF_figures/LIF_137.png', 'LIF_figures/LIF_138.png', 'LIF_figures/LIF_139.png', 'LIF_figures/LIF_140.png', 'LIF_figures/LIF_141.png', 'LIF_figures/LIF_142.png', 'LIF_figures/LIF_143.png', 'LIF_figures/LIF_144.png', 'LIF_figures/LIF_145.png', 'LIF_figures/LIF_146.png', 'LIF_figures/LIF_147.png', 'LIF_figures/LIF_148.png', 'LIF_figures/LIF_149.png', 'LIF_figures/LIF_150.png', 'LIF_figures/LIF_151.png', 'LIF_figures/LIF_152.png', 'LIF_figures/LIF_153.png', 'LIF_figures/LIF_154.png', 'LIF_figures/LIF_155.png', 'LIF_figures/LIF_156.png', 'LIF_figures/LIF_157.png', 'LIF_figures/LIF_158.png', 'LIF_figures/LIF_159.png', 'LIF_figures/LIF_160.png', 'LIF_figures/LIF_161.png', 'LIF_figures/LIF_162.png', 'LIF_figures/LIF_163.png', 'LIF_figures/LIF_164.png', 'LIF_figures/LIF_165.png', 'LIF_figures/LIF_166.png', 'LIF_figures/LIF_167.png', 'LIF_figures/LIF_168.png', 'LIF_figures/LIF_169.png', 'LIF_figures/LIF_170.png', 'LIF_figures/LIF_171.png', 'LIF_figures/LIF_172.png', 'LIF_figures/LIF_173.png', 'LIF_figures/LIF_174.png', 'LIF_figures/LIF_175.png', 'LIF_figures/LIF_176.png', 'LIF_figures/LIF_177.png', 'LIF_figures/LIF_178.png', 'LIF_figures/LIF_179.png', 'LIF_figures/LIF_180.png', 'LIF_figures/LIF_181.png', 'LIF_figures/LIF_182.png', 'LIF_figures/LIF_183.png', 'LIF_figures/LIF_184.png', 'LIF_figures/LIF_185.png', 'LIF_figures/LIF_186.png', 'LIF_figures/LIF_187.png', 'LIF_figures/LIF_188.png', 'LIF_figures/LIF_189.png', 'LIF_figures/LIF_190.png', 'LIF_figures/LIF_191.png', 'LIF_figures/LIF_192.png', 'LIF_figures/LIF_193.png', 'LIF_figures/LIF_194.png', 'LIF_figures/LIF_195.png', 'LIF_figures/LIF_196.png', 'LIF_figures/LIF_197.png', 'LIF_figures/LIF_198.png', 'LIF_figures/LIF_199.png', 'LIF_figures/LIF_200.png', 'LIF_figures/LIF_201.png', 'LIF_figures/LIF_202.png', 'LIF_figures/LIF_203.png', 'LIF_figures/LIF_204.png', 'LIF_figures/LIF_205.png', 'LIF_figures/LIF_206.png', 'LIF_figures/LIF_207.png', 'LIF_figures/LIF_208.png', 'LIF_figures/LIF_209.png', 'LIF_figures/LIF_210.png', 'LIF_figures/LIF_211.png', 'LIF_figures/LIF_212.png', 'LIF_figures/LIF_213.png', 'LIF_figures/LIF_214.png', 'LIF_figures/LIF_215.png', 'LIF_figures/LIF_216.png', 'LIF_figures/LIF_217.png', 'LIF_figures/LIF_218.png', 'LIF_figures/LIF_219.png', 'LIF_figures/LIF_220.png', 'LIF_figures/LIF_221.png', 'LIF_figures/LIF_222.png', 'LIF_figures/LIF_223.png', 'LIF_figures/LIF_224.png', 'LIF_figures/LIF_225.png', 'LIF_figures/LIF_226.png', 'LIF_figures/LIF_227.png', 'LIF_figures/LIF_228.png', 'LIF_figures/LIF_229.png', 'LIF_figures/LIF_230.png', 'LIF_figures/LIF_231.png', 'LIF_figures/LIF_232.png', 'LIF_figures/LIF_233.png', 'LIF_figures/LIF_234.png', 'LIF_figures/LIF_235.png', 'LIF_figures/LIF_236.png', 'LIF_figures/LIF_237.png', 'LIF_figures/LIF_238.png', 'LIF_figures/LIF_239.png']\n",
      "Writing no_name.mp4\n",
      "Moviepy - Building video no_name.mp4.\n",
      "Moviepy - Writing video no_name.mp4\n",
      "\n"
     ]
    },
    {
     "name": "stderr",
     "output_type": "stream",
     "text": [
      "                                                                                                                                                                                     \r"
     ]
    },
    {
     "name": "stdout",
     "output_type": "stream",
     "text": [
      "Moviepy - Done !\n",
      "Moviepy - video ready no_name.mp4\n"
     ]
    }
   ],
   "source": [
    "slides = []\n",
    "\n",
    "start_frame_figures = 40\n",
    "max_frame_figures = 200\n",
    "\n",
    "slides.append(Slide(\n",
    "    type='figures',\n",
    "    contents=['LIF_figures/LIF_'+str(frame)+'.png' for frame in range(start_frame_figures,start_frame_figures+max_frame_figures)],\n",
    "    duration=30,\n",
    "    ));\n",
    "\n",
    "fps = 30\n",
    "do_gif = False\n",
    "H=100*10\n",
    "W=150*10\n",
    "if reduced:\n",
    "    fps = 5\n",
    "    do_gif = False\n",
    "    H=100*2\n",
    "    W=150*2\n",
    "d = Deck(videoname='LIF', fps=fps,figpath = '', H=H, W=W, border_ratio=0);\n",
    "clips = d.compositing(slides);\n",
    "d.compiling(clips);"
   ]
  },
  {
   "cell_type": "code",
   "execution_count": null,
   "id": "7fd3dd95-50c1-4b38-a919-f147334827fd",
   "metadata": {},
   "outputs": [],
   "source": []
  }
 ],
 "metadata": {
  "kernelspec": {
   "display_name": "Python 3 (ipykernel)",
   "language": "python",
   "name": "python3"
  },
  "language_info": {
   "codemirror_mode": {
    "name": "ipython",
    "version": 3
   },
   "file_extension": ".py",
   "mimetype": "text/x-python",
   "name": "python",
   "nbconvert_exporter": "python",
   "pygments_lexer": "ipython3",
   "version": "3.8.5"
  }
 },
 "nbformat": 4,
 "nbformat_minor": 5
}
