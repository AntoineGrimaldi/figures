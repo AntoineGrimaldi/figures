{
 "cells": [
  {
   "cell_type": "markdown",
   "id": "7847c67c-83e4-4f92-8ca2-0aebc43704e8",
   "metadata": {},
   "source": [
    "# Animated figure of Spiking Neurons (LIF)"
   ]
  },
  {
   "cell_type": "code",
   "execution_count": 1,
   "id": "bbaf1268-0593-4b81-9dc0-e72d4e689026",
   "metadata": {},
   "outputs": [],
   "source": [
    "from IPython.display import Video"
   ]
  },
  {
   "cell_type": "code",
   "execution_count": 2,
   "id": "062e1604-5356-4e3f-849f-1416ee1999a8",
   "metadata": {},
   "outputs": [
    {
     "data": {
      "text/html": [
       "<video src=\"LIF.mp4\" controls  width=\"900\"  height=\"600\">\n",
       "      Your browser does not support the <code>video</code> element.\n",
       "    </video>"
      ],
      "text/plain": [
       "<IPython.core.display.Video object>"
      ]
     },
     "execution_count": 2,
     "metadata": {},
     "output_type": "execute_result"
    }
   ],
   "source": [
    "Video('LIF.mp4', width=900, height=600)"
   ]
  },
  {
   "cell_type": "code",
   "execution_count": 3,
   "id": "99977b1a-d4f7-4cb9-a44d-83dc2c5bf812",
   "metadata": {},
   "outputs": [],
   "source": [
    "%mkdir -p LIF_figures"
   ]
  },
  {
   "cell_type": "code",
   "execution_count": 4,
   "id": "d0c2bf7a-13ac-4e46-a689-ab223ec43ea0",
   "metadata": {},
   "outputs": [],
   "source": [
    "from tools import make_input, vonmises, draw_LIF_figures, Slide, Deck\n",
    "import numpy as np"
   ]
  },
  {
   "cell_type": "code",
   "execution_count": 5,
   "id": "1609d41a-665b-4da2-b360-6ca9a8465316",
   "metadata": {},
   "outputs": [],
   "source": [
    "nb_syn, noise_density, simtime, stimtime = 10, 2e-3, 1e4, 2.5e2\n",
    "repetitions = 0\n",
    "noise, stim, aer = make_input(nb_syn, noise_density, repetitions, simtime, stimtime, function=vonmises)"
   ]
  },
  {
   "cell_type": "code",
   "execution_count": 6,
   "id": "7728ab38-bce1-4b20-8d4d-8703dd475f39",
   "metadata": {},
   "outputs": [],
   "source": [
    "postsyn_window_size = 300\n",
    "seed_nb = 4\n",
    "np.random.seed(seed_nb)\n",
    "delays = postsyn_window_size*np.ones(nb_syn)\n",
    "synaptic_weights = np.random.rand(nb_syn)*.2+.1"
   ]
  },
  {
   "cell_type": "code",
   "execution_count": 7,
   "id": "9d46fa9f-7f33-4779-8798-af3ea490ec8e",
   "metadata": {},
   "outputs": [
    {
     "data": {
      "application/vnd.jupyter.widget-view+json": {
       "model_id": "2b132a45858343229f424a9ee11743e7",
       "version_major": 2,
       "version_minor": 0
      },
      "text/plain": [
       "  0%|          | 0/300 [00:00<?, ?it/s]"
      ]
     },
     "metadata": {},
     "output_type": "display_data"
    },
    {
     "name": "stdout",
     "output_type": "stream",
     "text": [
      "Making movie animation.mpg - this make take a while\n"
     ]
    },
    {
     "name": "stderr",
     "output_type": "stream",
     "text": [
      "sh: 1: mencoder: not found\n"
     ]
    }
   ],
   "source": [
    "draw_LIF_figures(noise, stim, aer, simtime, nb_syn, delays, synaptic_weights, nb_frames = 300, write_movie=True, print_figures = False)"
   ]
  },
  {
   "cell_type": "code",
   "execution_count": null,
   "id": "20e2f6aa-b863-4e57-8669-5346806e2247",
   "metadata": {},
   "outputs": [],
   "source": [
    "import cv2\n",
    "im = cv2.imread('LIF_figures/LIF_0.png')\n",
    "cv2.imshow('lif', im)"
   ]
  },
  {
   "cell_type": "markdown",
   "id": "b7c1e2bb-6556-4cca-aad8-1e29d787b8b2",
   "metadata": {},
   "source": [
    "## Compile images into movie"
   ]
  },
  {
   "cell_type": "code",
   "execution_count": null,
   "id": "c3afd2f3-f1ee-42f3-9efc-5fa62cffc06a",
   "metadata": {},
   "outputs": [],
   "source": [
    "reduced = False"
   ]
  },
  {
   "cell_type": "code",
   "execution_count": null,
   "id": "701dd08e-6e90-43ae-a878-8dd33d148e8e",
   "metadata": {},
   "outputs": [],
   "source": [
    "slides = []\n",
    "\n",
    "start_frame_figures = 40\n",
    "max_frame_figures = 200\n",
    "\n",
    "slides.append(Slide(\n",
    "    type='figures',\n",
    "    contents=['LIF_figures/LIF_'+str(frame)+'.png' for frame in range(start_frame_figures,start_frame_figures+max_frame_figures)],\n",
    "    duration=30,\n",
    "    ));\n",
    "\n",
    "fps = 10\n",
    "do_gif = False\n",
    "H=100*10\n",
    "W=150*10\n",
    "if reduced:\n",
    "    fps = 5\n",
    "    do_gif = False\n",
    "    H=100*2\n",
    "    W=150*2\n",
    "d = Deck(videoname='LIF', fps=fps,figpath = '', H=H, W=W, border_ratio=0);\n",
    "clips = d.compositing(slides);\n",
    "d.compiling(clips);"
   ]
  },
  {
   "cell_type": "code",
   "execution_count": null,
   "id": "7fd3dd95-50c1-4b38-a919-f147334827fd",
   "metadata": {},
   "outputs": [],
   "source": []
  }
 ],
 "metadata": {
  "kernelspec": {
   "display_name": "Python 3 (ipykernel)",
   "language": "python",
   "name": "python3"
  },
  "language_info": {
   "codemirror_mode": {
    "name": "ipython",
    "version": 3
   },
   "file_extension": ".py",
   "mimetype": "text/x-python",
   "name": "python",
   "nbconvert_exporter": "python",
   "pygments_lexer": "ipython3",
   "version": "3.8.10"
  }
 },
 "nbformat": 4,
 "nbformat_minor": 5
}
