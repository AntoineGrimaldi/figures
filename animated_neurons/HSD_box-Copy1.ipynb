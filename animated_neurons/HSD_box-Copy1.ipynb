{
 "cells": [
  {
   "cell_type": "markdown",
   "id": "7847c67c-83e4-4f92-8ca2-0aebc43704e8",
   "metadata": {},
   "source": [
    "# Animated figure of Spiking Neurons with hetero-synaptic delays"
   ]
  },
  {
   "cell_type": "code",
   "execution_count": 1,
   "id": "99977b1a-d4f7-4cb9-a44d-83dc2c5bf812",
   "metadata": {},
   "outputs": [],
   "source": [
    "%mkdir -p HSD_figures"
   ]
  },
  {
   "cell_type": "code",
   "execution_count": 2,
   "id": "d0c2bf7a-13ac-4e46-a689-ab223ec43ea0",
   "metadata": {},
   "outputs": [],
   "source": [
    "from tools import make_input, vonmises, draw_HSD_condspeed_figures, Slide, Deck\n",
    "import numpy as np"
   ]
  },
  {
   "cell_type": "code",
   "execution_count": 3,
   "id": "1609d41a-665b-4da2-b360-6ca9a8465316",
   "metadata": {},
   "outputs": [],
   "source": [
    "nb_syn, noise_density, simtime, stimtime = 10, 1e-3, 1e4, 2.5e2\n",
    "repetitions = 10\n",
    "noise, stim, aer = make_input(nb_syn, noise_density, repetitions, simtime, stimtime, function=vonmises)\n",
    "\n",
    "min_delay, max_delay = 50, stimtime+50\n",
    "delays = np.arange(min_delay,max_delay,(max_delay-min_delay)/nb_syn)\n",
    "delays = max_delay-vonmises(nb_syn, stimtime, 0)\n",
    "seed_nb = 4\n",
    "np.random.seed(seed_nb)\n",
    "synaptic_weights = np.random.rand(nb_syn)*.2+.1"
   ]
  },
  {
   "cell_type": "code",
   "execution_count": 4,
   "id": "9d46fa9f-7f33-4779-8798-af3ea490ec8e",
   "metadata": {},
   "outputs": [
    {
     "data": {
      "application/vnd.jupyter.widget-view+json": {
       "model_id": "a8d4d1fb689745208b755ed6ae524e0a",
       "version_major": 2,
       "version_minor": 0
      },
      "text/plain": [
       "  0%|          | 0/300 [00:00<?, ?it/s]"
      ]
     },
     "metadata": {},
     "output_type": "display_data"
    }
   ],
   "source": [
    "draw_HSD_condspeed_figures(noise, stim, aer, simtime, nb_syn, delays, synaptic_weights, nb_frames = 300, print_figures=True)"
   ]
  },
  {
   "cell_type": "markdown",
   "id": "b7c1e2bb-6556-4cca-aad8-1e29d787b8b2",
   "metadata": {},
   "source": [
    "## Compile images into movie"
   ]
  },
  {
   "cell_type": "code",
   "execution_count": 5,
   "id": "c3afd2f3-f1ee-42f3-9efc-5fa62cffc06a",
   "metadata": {},
   "outputs": [],
   "source": [
    "reduced = False"
   ]
  },
  {
   "cell_type": "code",
   "execution_count": null,
   "id": "701dd08e-6e90-43ae-a878-8dd33d148e8e",
   "metadata": {},
   "outputs": [
    {
     "name": "stdout",
     "output_type": "stream",
     "text": [
      "/!\\ no subtitle ['HSD_figures/HSD_box_40.png', 'HSD_figures/HSD_box_41.png', 'HSD_figures/HSD_box_42.png', 'HSD_figures/HSD_box_43.png', 'HSD_figures/HSD_box_44.png', 'HSD_figures/HSD_box_45.png', 'HSD_figures/HSD_box_46.png', 'HSD_figures/HSD_box_47.png', 'HSD_figures/HSD_box_48.png', 'HSD_figures/HSD_box_49.png', 'HSD_figures/HSD_box_50.png', 'HSD_figures/HSD_box_51.png', 'HSD_figures/HSD_box_52.png', 'HSD_figures/HSD_box_53.png', 'HSD_figures/HSD_box_54.png', 'HSD_figures/HSD_box_55.png', 'HSD_figures/HSD_box_56.png', 'HSD_figures/HSD_box_57.png', 'HSD_figures/HSD_box_58.png', 'HSD_figures/HSD_box_59.png', 'HSD_figures/HSD_box_60.png', 'HSD_figures/HSD_box_61.png', 'HSD_figures/HSD_box_62.png', 'HSD_figures/HSD_box_63.png', 'HSD_figures/HSD_box_64.png', 'HSD_figures/HSD_box_65.png', 'HSD_figures/HSD_box_66.png', 'HSD_figures/HSD_box_67.png', 'HSD_figures/HSD_box_68.png', 'HSD_figures/HSD_box_69.png', 'HSD_figures/HSD_box_70.png', 'HSD_figures/HSD_box_71.png', 'HSD_figures/HSD_box_72.png', 'HSD_figures/HSD_box_73.png', 'HSD_figures/HSD_box_74.png', 'HSD_figures/HSD_box_75.png', 'HSD_figures/HSD_box_76.png', 'HSD_figures/HSD_box_77.png', 'HSD_figures/HSD_box_78.png', 'HSD_figures/HSD_box_79.png', 'HSD_figures/HSD_box_80.png', 'HSD_figures/HSD_box_81.png', 'HSD_figures/HSD_box_82.png', 'HSD_figures/HSD_box_83.png', 'HSD_figures/HSD_box_84.png', 'HSD_figures/HSD_box_85.png', 'HSD_figures/HSD_box_86.png', 'HSD_figures/HSD_box_87.png', 'HSD_figures/HSD_box_88.png', 'HSD_figures/HSD_box_89.png', 'HSD_figures/HSD_box_90.png', 'HSD_figures/HSD_box_91.png', 'HSD_figures/HSD_box_92.png', 'HSD_figures/HSD_box_93.png', 'HSD_figures/HSD_box_94.png', 'HSD_figures/HSD_box_95.png', 'HSD_figures/HSD_box_96.png', 'HSD_figures/HSD_box_97.png', 'HSD_figures/HSD_box_98.png', 'HSD_figures/HSD_box_99.png', 'HSD_figures/HSD_box_100.png', 'HSD_figures/HSD_box_101.png', 'HSD_figures/HSD_box_102.png', 'HSD_figures/HSD_box_103.png', 'HSD_figures/HSD_box_104.png', 'HSD_figures/HSD_box_105.png', 'HSD_figures/HSD_box_106.png', 'HSD_figures/HSD_box_107.png', 'HSD_figures/HSD_box_108.png', 'HSD_figures/HSD_box_109.png', 'HSD_figures/HSD_box_110.png', 'HSD_figures/HSD_box_111.png', 'HSD_figures/HSD_box_112.png', 'HSD_figures/HSD_box_113.png', 'HSD_figures/HSD_box_114.png', 'HSD_figures/HSD_box_115.png', 'HSD_figures/HSD_box_116.png', 'HSD_figures/HSD_box_117.png', 'HSD_figures/HSD_box_118.png', 'HSD_figures/HSD_box_119.png', 'HSD_figures/HSD_box_120.png', 'HSD_figures/HSD_box_121.png', 'HSD_figures/HSD_box_122.png', 'HSD_figures/HSD_box_123.png', 'HSD_figures/HSD_box_124.png', 'HSD_figures/HSD_box_125.png', 'HSD_figures/HSD_box_126.png', 'HSD_figures/HSD_box_127.png', 'HSD_figures/HSD_box_128.png', 'HSD_figures/HSD_box_129.png', 'HSD_figures/HSD_box_130.png', 'HSD_figures/HSD_box_131.png', 'HSD_figures/HSD_box_132.png', 'HSD_figures/HSD_box_133.png', 'HSD_figures/HSD_box_134.png', 'HSD_figures/HSD_box_135.png', 'HSD_figures/HSD_box_136.png', 'HSD_figures/HSD_box_137.png', 'HSD_figures/HSD_box_138.png', 'HSD_figures/HSD_box_139.png', 'HSD_figures/HSD_box_140.png', 'HSD_figures/HSD_box_141.png', 'HSD_figures/HSD_box_142.png', 'HSD_figures/HSD_box_143.png', 'HSD_figures/HSD_box_144.png', 'HSD_figures/HSD_box_145.png', 'HSD_figures/HSD_box_146.png', 'HSD_figures/HSD_box_147.png', 'HSD_figures/HSD_box_148.png', 'HSD_figures/HSD_box_149.png', 'HSD_figures/HSD_box_150.png', 'HSD_figures/HSD_box_151.png', 'HSD_figures/HSD_box_152.png', 'HSD_figures/HSD_box_153.png', 'HSD_figures/HSD_box_154.png', 'HSD_figures/HSD_box_155.png', 'HSD_figures/HSD_box_156.png', 'HSD_figures/HSD_box_157.png', 'HSD_figures/HSD_box_158.png', 'HSD_figures/HSD_box_159.png', 'HSD_figures/HSD_box_160.png', 'HSD_figures/HSD_box_161.png', 'HSD_figures/HSD_box_162.png', 'HSD_figures/HSD_box_163.png', 'HSD_figures/HSD_box_164.png', 'HSD_figures/HSD_box_165.png', 'HSD_figures/HSD_box_166.png', 'HSD_figures/HSD_box_167.png', 'HSD_figures/HSD_box_168.png', 'HSD_figures/HSD_box_169.png', 'HSD_figures/HSD_box_170.png', 'HSD_figures/HSD_box_171.png', 'HSD_figures/HSD_box_172.png', 'HSD_figures/HSD_box_173.png', 'HSD_figures/HSD_box_174.png', 'HSD_figures/HSD_box_175.png', 'HSD_figures/HSD_box_176.png', 'HSD_figures/HSD_box_177.png', 'HSD_figures/HSD_box_178.png', 'HSD_figures/HSD_box_179.png', 'HSD_figures/HSD_box_180.png', 'HSD_figures/HSD_box_181.png', 'HSD_figures/HSD_box_182.png', 'HSD_figures/HSD_box_183.png', 'HSD_figures/HSD_box_184.png', 'HSD_figures/HSD_box_185.png', 'HSD_figures/HSD_box_186.png', 'HSD_figures/HSD_box_187.png', 'HSD_figures/HSD_box_188.png', 'HSD_figures/HSD_box_189.png', 'HSD_figures/HSD_box_190.png', 'HSD_figures/HSD_box_191.png', 'HSD_figures/HSD_box_192.png', 'HSD_figures/HSD_box_193.png', 'HSD_figures/HSD_box_194.png', 'HSD_figures/HSD_box_195.png', 'HSD_figures/HSD_box_196.png', 'HSD_figures/HSD_box_197.png', 'HSD_figures/HSD_box_198.png', 'HSD_figures/HSD_box_199.png', 'HSD_figures/HSD_box_200.png', 'HSD_figures/HSD_box_201.png', 'HSD_figures/HSD_box_202.png', 'HSD_figures/HSD_box_203.png', 'HSD_figures/HSD_box_204.png', 'HSD_figures/HSD_box_205.png', 'HSD_figures/HSD_box_206.png', 'HSD_figures/HSD_box_207.png', 'HSD_figures/HSD_box_208.png', 'HSD_figures/HSD_box_209.png', 'HSD_figures/HSD_box_210.png', 'HSD_figures/HSD_box_211.png', 'HSD_figures/HSD_box_212.png', 'HSD_figures/HSD_box_213.png', 'HSD_figures/HSD_box_214.png', 'HSD_figures/HSD_box_215.png', 'HSD_figures/HSD_box_216.png', 'HSD_figures/HSD_box_217.png', 'HSD_figures/HSD_box_218.png', 'HSD_figures/HSD_box_219.png', 'HSD_figures/HSD_box_220.png', 'HSD_figures/HSD_box_221.png', 'HSD_figures/HSD_box_222.png', 'HSD_figures/HSD_box_223.png', 'HSD_figures/HSD_box_224.png', 'HSD_figures/HSD_box_225.png', 'HSD_figures/HSD_box_226.png', 'HSD_figures/HSD_box_227.png', 'HSD_figures/HSD_box_228.png', 'HSD_figures/HSD_box_229.png', 'HSD_figures/HSD_box_230.png', 'HSD_figures/HSD_box_231.png', 'HSD_figures/HSD_box_232.png', 'HSD_figures/HSD_box_233.png', 'HSD_figures/HSD_box_234.png', 'HSD_figures/HSD_box_235.png', 'HSD_figures/HSD_box_236.png', 'HSD_figures/HSD_box_237.png', 'HSD_figures/HSD_box_238.png', 'HSD_figures/HSD_box_239.png']\n",
      "Writing HSD_box_speeds.mp4\n",
      "Moviepy - Building video HSD_box_speeds.mp4.\n",
      "Moviepy - Writing video HSD_box_speeds.mp4\n",
      "\n"
     ]
    },
    {
     "name": "stderr",
     "output_type": "stream",
     "text": [
      "frame_index:  49%|██████████████████████████████████████████████████████████▍                                                            | 442/900 [00:35<00:32, 13.91it/s, now=None]"
     ]
    }
   ],
   "source": [
    "slides = []\n",
    "\n",
    "start_frame_figures = 40\n",
    "max_frame_figures = 200\n",
    "\n",
    "slides.append(Slide(\n",
    "    type='figures',\n",
    "    contents=['HSD_figures/HSD_box_'+str(frame)+'.png' for frame in range(start_frame_figures,start_frame_figures+max_frame_figures)],\n",
    "    duration=30,\n",
    "    ));\n",
    "\n",
    "fps = 30\n",
    "do_gif = False\n",
    "H=100*10\n",
    "W=150*10\n",
    "if reduced:\n",
    "    fps = 5\n",
    "    do_gif = False\n",
    "    H=100*2\n",
    "    W=150*2\n",
    "d = Deck(videoname='HSD_box_speeds',fps=fps,figpath = '', H=H, W=W, border_ratio=0);\n",
    "clips = d.compositing(slides);\n",
    "d.compiling(clips);"
   ]
  },
  {
   "cell_type": "code",
   "execution_count": null,
   "id": "7fd3dd95-50c1-4b38-a919-f147334827fd",
   "metadata": {},
   "outputs": [],
   "source": []
  }
 ],
 "metadata": {
  "kernelspec": {
   "display_name": "Python 3 (ipykernel)",
   "language": "python",
   "name": "python3"
  },
  "language_info": {
   "codemirror_mode": {
    "name": "ipython",
    "version": 3
   },
   "file_extension": ".py",
   "mimetype": "text/x-python",
   "name": "python",
   "nbconvert_exporter": "python",
   "pygments_lexer": "ipython3",
   "version": "3.8.5"
  }
 },
 "nbformat": 4,
 "nbformat_minor": 5
}
